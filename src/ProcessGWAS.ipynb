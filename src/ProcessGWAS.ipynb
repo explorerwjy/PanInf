{
 "cells": [
  {
   "cell_type": "code",
   "execution_count": 11,
   "metadata": {},
   "outputs": [
    {
     "name": "stdout",
     "output_type": "stream",
     "text": [
      "The autoreload extension is already loaded. To reload it, use:\n",
      "  %reload_ext autoreload\n"
     ]
    }
   ],
   "source": [
    "%load_ext autoreload\n",
    "%autoreload 2\n",
    "from NBT import *"
   ]
  },
  {
   "cell_type": "code",
   "execution_count": null,
   "metadata": {},
   "outputs": [],
   "source": [
    "#GetGENEGTF(\"/Users/jiayao/Work/BrainDisorders/data/gencode.v19.annotation.gtf\", \n",
    "#          \"../dat/gencode.v19.gene.gtf\")"
   ]
  },
  {
   "cell_type": "code",
   "execution_count": 8,
   "metadata": {},
   "outputs": [
    {
     "name": "stdout",
     "output_type": "stream",
     "text": [
      "bgzip out: b''; err: None\n",
      "tabix out: b''; err: None\n"
     ]
    }
   ],
   "source": [
    "# Preprocess SCZ\n",
    "INFO = 0.9\n",
    "Pcut = 0.05\n",
    "FiltSNP(\"../dat/GWAS/PGC/ckqny.scz2snpres.gz\", \n",
    "        \"../dat/GWAS/PGC/ckqny.scz2snpres.INFO{}.P{}.bed\".format(INFO, Pcut), \n",
    "       CHR_field=\"hg19chrc\", POS_field=\"bp\", INFO_field=\"info\", pvalue_field=\"p\", INFO = INFO, pvalue_cut= Pcut)"
   ]
  },
  {
   "cell_type": "code",
   "execution_count": null,
   "metadata": {},
   "outputs": [],
   "source": []
  },
  {
   "cell_type": "code",
   "execution_count": 10,
   "metadata": {},
   "outputs": [
    {
     "name": "stdout",
     "output_type": "stream",
     "text": [
      "bgzip out: b''; err: None\n",
      "tabix out: b''; err: None\n"
     ]
    }
   ],
   "source": [
    "# Preprocess ASD\n",
    "INFO = 0.9\n",
    "Pcut = 0.05\n",
    "FiltSNP(\"../dat/GWAS/PGC/iPSYCH-PGC_ASD_Nov2017.tsv.gz\", \n",
    "        \"../dat/GWAS/PGC/iPSYCH-PGC_ASD_Nov2017.INFO{}.P{}.bed\".format(INFO, Pcut), \n",
    "       CHR_field=\"CHR\", POS_field=\"BP\", INFO_field=\"INFO\", pvalue_field=\"P\", INFO = INFO, pvalue_cut= Pcut)"
   ]
  },
  {
   "cell_type": "code",
   "execution_count": 13,
   "metadata": {},
   "outputs": [],
   "source": [
    "reformat(\"/Users/jiayao/Work/NB_proposal/dat/GWAS/GeneTest/scz.genetest.genes.out\", \n",
    "        \"/Users/jiayao/Work/NB_proposal/dat/GWAS/GeneTest/scz.genetest.tsv\")"
   ]
  },
  {
   "cell_type": "code",
   "execution_count": 14,
   "metadata": {},
   "outputs": [],
   "source": [
    "reformat(\"/Users/jiayao/Work/NB_proposal/dat/GWAS/GeneTest/asd.genetest.genes.out\", \n",
    "        \"/Users/jiayao/Work/NB_proposal/dat/GWAS/GeneTest/asd.genetest.tsv\")"
   ]
  },
  {
   "cell_type": "code",
   "execution_count": null,
   "metadata": {},
   "outputs": [],
   "source": []
  }
 ],
 "metadata": {
  "kernelspec": {
   "display_name": "Python 3",
   "language": "python",
   "name": "python3"
  },
  "language_info": {
   "codemirror_mode": {
    "name": "ipython",
    "version": 3
   },
   "file_extension": ".py",
   "mimetype": "text/x-python",
   "name": "python",
   "nbconvert_exporter": "python",
   "pygments_lexer": "ipython3",
   "version": "3.7.1"
  }
 },
 "nbformat": 4,
 "nbformat_minor": 2
}
