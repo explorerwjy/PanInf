{
 "cells": [
  {
   "cell_type": "code",
   "execution_count": 1,
   "metadata": {},
   "outputs": [],
   "source": [
    "%load_ext autoreload\n",
    "%autoreload 2\n",
    "from NBT import *"
   ]
  },
  {
   "cell_type": "code",
   "execution_count": 2,
   "metadata": {},
   "outputs": [],
   "source": [
    "# Gene SYMBOL 2 ENSG\n",
    "Symbol2ENSG, Uniprot2ENSG, ENSP2ENSG, Entrez2ENSG = LoadIDMapping()\n",
    "ENSG2Symbol = {}\n",
    "for k,v in Symbol2ENSG.items():\n",
    "    ENSG2Symbol[v] = k"
   ]
  },
  {
   "cell_type": "code",
   "execution_count": 3,
   "metadata": {},
   "outputs": [
    {
     "data": {
      "text/html": [
       "<div>\n",
       "<style scoped>\n",
       "    .dataframe tbody tr th:only-of-type {\n",
       "        vertical-align: middle;\n",
       "    }\n",
       "\n",
       "    .dataframe tbody tr th {\n",
       "        vertical-align: top;\n",
       "    }\n",
       "\n",
       "    .dataframe thead th {\n",
       "        text-align: right;\n",
       "    }\n",
       "</style>\n",
       "<table border=\"1\" class=\"dataframe\">\n",
       "  <thead>\n",
       "    <tr style=\"text-align: right;\">\n",
       "      <th></th>\n",
       "      <th>Description</th>\n",
       "      <th>Skin</th>\n",
       "      <th>Cervix Uteri</th>\n",
       "      <th>Uterus</th>\n",
       "      <th>Adipose Tissue</th>\n",
       "      <th>Heart</th>\n",
       "      <th>Thyroid</th>\n",
       "      <th>Small Intestine</th>\n",
       "      <th>Kidney</th>\n",
       "      <th>Prostate</th>\n",
       "      <th>...</th>\n",
       "      <th>Blood</th>\n",
       "      <th>Testis</th>\n",
       "      <th>Fallopian Tube</th>\n",
       "      <th>Breast</th>\n",
       "      <th>Salivary Gland</th>\n",
       "      <th>Adrenal Gland</th>\n",
       "      <th>Pituitary</th>\n",
       "      <th>Bone Marrow</th>\n",
       "      <th>Nerve</th>\n",
       "      <th>Stomach</th>\n",
       "    </tr>\n",
       "    <tr>\n",
       "      <th>Name</th>\n",
       "      <th></th>\n",
       "      <th></th>\n",
       "      <th></th>\n",
       "      <th></th>\n",
       "      <th></th>\n",
       "      <th></th>\n",
       "      <th></th>\n",
       "      <th></th>\n",
       "      <th></th>\n",
       "      <th></th>\n",
       "      <th></th>\n",
       "      <th></th>\n",
       "      <th></th>\n",
       "      <th></th>\n",
       "      <th></th>\n",
       "      <th></th>\n",
       "      <th></th>\n",
       "      <th></th>\n",
       "      <th></th>\n",
       "      <th></th>\n",
       "      <th></th>\n",
       "    </tr>\n",
       "  </thead>\n",
       "  <tbody>\n",
       "    <tr>\n",
       "      <th>ENSG00000186092</th>\n",
       "      <td>OR4F5</td>\n",
       "      <td>0.025918</td>\n",
       "      <td>0.030203</td>\n",
       "      <td>0.015057</td>\n",
       "      <td>0.027855</td>\n",
       "      <td>0.053155</td>\n",
       "      <td>0.027711</td>\n",
       "      <td>0.033825</td>\n",
       "      <td>0.045193</td>\n",
       "      <td>0.025381</td>\n",
       "      <td>...</td>\n",
       "      <td>0.012020</td>\n",
       "      <td>0.022574</td>\n",
       "      <td>0.010149</td>\n",
       "      <td>0.027705</td>\n",
       "      <td>0.02373</td>\n",
       "      <td>0.036714</td>\n",
       "      <td>0.018040</td>\n",
       "      <td>NaN</td>\n",
       "      <td>0.023290</td>\n",
       "      <td>0.035101</td>\n",
       "    </tr>\n",
       "    <tr>\n",
       "      <th>ENSG00000235249</th>\n",
       "      <td>OR4F29</td>\n",
       "      <td>0.020343</td>\n",
       "      <td>0.007111</td>\n",
       "      <td>0.013783</td>\n",
       "      <td>0.021115</td>\n",
       "      <td>0.035537</td>\n",
       "      <td>0.023421</td>\n",
       "      <td>0.023829</td>\n",
       "      <td>0.023720</td>\n",
       "      <td>0.020852</td>\n",
       "      <td>...</td>\n",
       "      <td>0.012044</td>\n",
       "      <td>0.015739</td>\n",
       "      <td>0.014486</td>\n",
       "      <td>0.022287</td>\n",
       "      <td>0.01979</td>\n",
       "      <td>0.026544</td>\n",
       "      <td>0.015122</td>\n",
       "      <td>NaN</td>\n",
       "      <td>0.022551</td>\n",
       "      <td>0.023630</td>\n",
       "    </tr>\n",
       "  </tbody>\n",
       "</table>\n",
       "<p>2 rows × 32 columns</p>\n",
       "</div>"
      ],
      "text/plain": [
       "                Description      Skin  Cervix Uteri    Uterus  Adipose Tissue  \\\n",
       "Name                                                                            \n",
       "ENSG00000186092       OR4F5  0.025918      0.030203  0.015057        0.027855   \n",
       "ENSG00000235249      OR4F29  0.020343      0.007111  0.013783        0.021115   \n",
       "\n",
       "                    Heart   Thyroid  Small Intestine    Kidney  Prostate  \\\n",
       "Name                                                                       \n",
       "ENSG00000186092  0.053155  0.027711         0.033825  0.045193  0.025381   \n",
       "ENSG00000235249  0.035537  0.023421         0.023829  0.023720  0.020852   \n",
       "\n",
       "                   ...        Blood    Testis  Fallopian Tube    Breast  \\\n",
       "Name               ...                                                    \n",
       "ENSG00000186092    ...     0.012020  0.022574        0.010149  0.027705   \n",
       "ENSG00000235249    ...     0.012044  0.015739        0.014486  0.022287   \n",
       "\n",
       "                 Salivary Gland  Adrenal Gland  Pituitary  Bone Marrow  \\\n",
       "Name                                                                     \n",
       "ENSG00000186092         0.02373       0.036714   0.018040          NaN   \n",
       "ENSG00000235249         0.01979       0.026544   0.015122          NaN   \n",
       "\n",
       "                    Nerve   Stomach  \n",
       "Name                                 \n",
       "ENSG00000186092  0.023290  0.035101  \n",
       "ENSG00000235249  0.022551  0.023630  \n",
       "\n",
       "[2 rows x 32 columns]"
      ]
     },
     "execution_count": 3,
     "metadata": {},
     "output_type": "execute_result"
    }
   ],
   "source": [
    "# Load Tissue Exp Dat\n",
    "GTExExp = pd.read_csv(\"../dat/GTEx_SMTS_Gene_Exp.tsv\", delimiter=\"\\t\", index_col=\"Name\")\n",
    "GTExExp.head(2)"
   ]
  },
  {
   "cell_type": "code",
   "execution_count": 4,
   "metadata": {},
   "outputs": [
    {
     "data": {
      "text/plain": [
       "<matplotlib.axes._subplots.AxesSubplot at 0x1a1a776588>"
      ]
     },
     "execution_count": 4,
     "metadata": {},
     "output_type": "execute_result"
    },
    {
     "data": {
      "image/png": "[encoded data removed]",
      "text/plain": [
       "<Figure size 432x288 with 1 Axes>"
      ]
     },
     "metadata": {
      "needs_background": "light"
     },
     "output_type": "display_data"
    }
   ],
   "source": [
    "GTExExp[\"Brain\"].hist(bins=50)"
   ]
  },
  {
   "cell_type": "code",
   "execution_count": 5,
   "metadata": {},
   "outputs": [
    {
     "name": "stdout",
     "output_type": "stream",
     "text": [
      "12421\n"
     ]
    },
    {
     "ename": "NameError",
     "evalue": "name 'subPrePPI' is not defined",
     "output_type": "error",
     "traceback": [
      "\u001b[0;31m---------------------------------------------------------------------------\u001b[0m",
      "\u001b[0;31mNameError\u001b[0m                                 Traceback (most recent call last)",
      "\u001b[0;32m<ipython-input-5-b3f938026874>\u001b[0m in \u001b[0;36m<module>\u001b[0;34m\u001b[0m\n\u001b[1;32m      1\u001b[0m \u001b[0mBrain_exp_genes\u001b[0m \u001b[0;34m=\u001b[0m \u001b[0mGTExExp\u001b[0m\u001b[0;34m[\u001b[0m\u001b[0mGTExExp\u001b[0m\u001b[0;34m[\u001b[0m\u001b[0;34m\"Brain\"\u001b[0m\u001b[0;34m]\u001b[0m\u001b[0;34m>\u001b[0m\u001b[0;36m0.4\u001b[0m\u001b[0;34m]\u001b[0m\u001b[0;34m.\u001b[0m\u001b[0mindex\u001b[0m\u001b[0;34m\u001b[0m\u001b[0;34m\u001b[0m\u001b[0m\n\u001b[1;32m      2\u001b[0m \u001b[0mprint\u001b[0m\u001b[0;34m(\u001b[0m\u001b[0mlen\u001b[0m\u001b[0;34m(\u001b[0m\u001b[0mBrain_exp_genes\u001b[0m\u001b[0;34m)\u001b[0m\u001b[0;34m)\u001b[0m\u001b[0;34m\u001b[0m\u001b[0;34m\u001b[0m\u001b[0m\n\u001b[0;32m----> 3\u001b[0;31m \u001b[0mbrain_subPPI\u001b[0m \u001b[0;34m=\u001b[0m \u001b[0msubPrePPI\u001b[0m\u001b[0;34m.\u001b[0m\u001b[0msubgraph\u001b[0m\u001b[0;34m(\u001b[0m\u001b[0msubPrePPI\u001b[0m\u001b[0;34m.\u001b[0m\u001b[0mvs\u001b[0m\u001b[0;34m.\u001b[0m\u001b[0mselect\u001b[0m\u001b[0;34m(\u001b[0m\u001b[0mENSGID_in\u001b[0m\u001b[0;34m=\u001b[0m\u001b[0mBrain_exp_genes\u001b[0m\u001b[0;34m)\u001b[0m\u001b[0;34m)\u001b[0m\u001b[0;34m\u001b[0m\u001b[0;34m\u001b[0m\u001b[0m\n\u001b[0m\u001b[1;32m      4\u001b[0m \u001b[0mprint\u001b[0m\u001b[0;34m(\u001b[0m\u001b[0mlen\u001b[0m\u001b[0;34m(\u001b[0m\u001b[0mbrain_subPPI\u001b[0m\u001b[0;34m.\u001b[0m\u001b[0mvs\u001b[0m\u001b[0;34m)\u001b[0m\u001b[0;34m)\u001b[0m\u001b[0;34m\u001b[0m\u001b[0;34m\u001b[0m\u001b[0m\n",
      "\u001b[0;31mNameError\u001b[0m: name 'subPrePPI' is not defined"
     ]
    }
   ],
   "source": [
    "Brain_exp_genes = GTExExp[GTExExp[\"Brain\"]>0.4].index\n",
    "print(len(Brain_exp_genes))\n",
    "brain_subPPI = subPrePPI.subgraph(subPrePPI.vs.select(ENSGID_in=Brain_exp_genes))\n",
    "print(len(brain_subPPI.vs))"
   ]
  },
  {
   "cell_type": "code",
   "execution_count": null,
   "metadata": {},
   "outputs": [],
   "source": [
    "noBrain_exp_genes = GTExExp[GTExExp[\"Brain\"]<1].index\n",
    "print(len(noBrain_exp_genes))\n",
    "non_brain_subPPI = subPrePPI.subgraph(subPrePPI.vs.select(ENSGID_in=noBrain_exp_genes))\n",
    "print(len(non_brain_subPPI.vs))"
   ]
  },
  {
   "cell_type": "code",
   "execution_count": null,
   "metadata": {},
   "outputs": [],
   "source": [
    "PrePPI, unmappedUniprot = LoadNetworkPrePPI(Uniprot2ENSG)"
   ]
  },
  {
   "cell_type": "code",
   "execution_count": null,
   "metadata": {},
   "outputs": [],
   "source": [
    "subPrePPI = PrePPI.subgraph_edges(PrePPI.es.select(weight_ge=1e7))\n",
    "print(len(subPrePPI.vs))\n",
    "print(np.mean(subPrePPI.degree()))"
   ]
  },
  {
   "cell_type": "code",
   "execution_count": null,
   "metadata": {},
   "outputs": [],
   "source": [
    "print(len(subPrePPI.es))"
   ]
  },
  {
   "cell_type": "code",
   "execution_count": null,
   "metadata": {},
   "outputs": [],
   "source": [
    "subPrePPI = PrePPI.subgraph_edges(PrePPI.es.select(weight_ge=1e6))\n",
    "print(len(subPrePPI.vs))\n",
    "print(np.mean(subPrePPI.degree()))"
   ]
  },
  {
   "cell_type": "code",
   "execution_count": null,
   "metadata": {},
   "outputs": [],
   "source": [
    "print(np.mean(subPrePPI.degree()))\n",
    "plt.hist(subPrePPI.degree(), bins=1000, density=1)\n",
    "plt.xlim((0,100))\n",
    "plt.show()"
   ]
  },
  {
   "cell_type": "code",
   "execution_count": null,
   "metadata": {},
   "outputs": [],
   "source": [
    "RGN = LoadPsychencodeRGN(Symbol2ENSG)"
   ]
  },
  {
   "cell_type": "code",
   "execution_count": null,
   "metadata": {},
   "outputs": [],
   "source": [
    "print(len(RGN.vs))\n",
    "print(np.mean(RGN.degree()))"
   ]
  },
  {
   "cell_type": "code",
   "execution_count": null,
   "metadata": {},
   "outputs": [],
   "source": [
    "subRGN = RGN.subgraph_edges(RGN.es.select(weight_ge=0.3))\n",
    "print(len(subRGN.vs))\n",
    "print(np.mean(subRGN.degree()))"
   ]
  },
  {
   "cell_type": "code",
   "execution_count": null,
   "metadata": {},
   "outputs": [],
   "source": [
    "#df = pd.read_csv(\"/Users/jiayao/Work/spark/dat/SFARI-Gene_genes_05-06-2019release_05-22-2019export.csv\")\n",
    "#ASD_Core = df[df[\"gene-score\"].isin([1.0, 2.0])][\"gene-symbol\"].values\n",
    "SCZ_high_conf_gene = pd.read_csv(\"../dat/network/psychencode/INT-17_SCZ_High_Confidence_Gene_List.csv\")\n",
    "SCZ_Core = SCZ_high_conf_gene[\"sczgenenames\"].values\n",
    "GeneTest = ProcessLoadGeneTestAndPlot(\"../dat/GWAS/GeneTest/scz.genetest.tsv\", SCZ_Core)"
   ]
  },
  {
   "cell_type": "code",
   "execution_count": null,
   "metadata": {},
   "outputs": [],
   "source": [
    "SCZdegreesEff = MapGenes2NetWork(GeneTest, subPrePPI, SCZ_Core, Symbol2ENSG, ENSG2Symbol)\n",
    "PlotDegreeDecay(SCZdegreesEff, N=6)\n",
    "PairwiseTest(SCZdegreesEff, N=6)"
   ]
  },
  {
   "cell_type": "code",
   "execution_count": null,
   "metadata": {},
   "outputs": [],
   "source": [
    "GeneTest_brain = GeneTest"
   ]
  },
  {
   "cell_type": "code",
   "execution_count": null,
   "metadata": {},
   "outputs": [],
   "source": [
    "SCZdegreesEff_brain = MapGenes2NetWork(GeneTest, brain_subPPI, SCZ_Core, Symbol2ENSG, ENSG2Symbol)\n",
    "PlotDegreeDecay(SCZdegreesEff_brain, N=6)\n",
    "PairwiseTest(SCZdegreesEff_brain, N=6)"
   ]
  },
  {
   "cell_type": "code",
   "execution_count": null,
   "metadata": {},
   "outputs": [],
   "source": [
    "SCZdegreesEff_brain = MapGenes2NetWork(GeneTest, non_brain_subPPI, SCZ_Core, Symbol2ENSG, ENSG2Symbol)\n",
    "PlotDegreeDecay(SCZdegreesEff_brain, N=6)\n",
    "PairwiseTest(SCZdegreesEff_brain, N=6)"
   ]
  },
  {
   "cell_type": "code",
   "execution_count": null,
   "metadata": {},
   "outputs": [],
   "source": []
  },
  {
   "cell_type": "code",
   "execution_count": null,
   "metadata": {},
   "outputs": [],
   "source": [
    "GWAS_SCZ_Core = GeneTest[GeneTest[\"ZSTAT\"]>7].index\n",
    "SCZdegreesEff2 = MapGenes2NetWork(GeneTest, subPrePPI, GWAS_SCZ_Core, Symbol2ENSG, ENSG2Symbol)"
   ]
  },
  {
   "cell_type": "code",
   "execution_count": null,
   "metadata": {},
   "outputs": [],
   "source": [
    "PlotDegreeDecay(SCZdegreesEff2, N=6)\n",
    "PairwiseTest(SCZdegreesEff2, N=6)"
   ]
  },
  {
   "cell_type": "code",
   "execution_count": null,
   "metadata": {},
   "outputs": [],
   "source": [
    "SCZdegreesEff = MapGenes2NetWork(GeneTest, subRGN, SCZ_Core, Symbol2ENSG, ENSG2Symbol)\n",
    "PlotDegreeDecay(SCZdegreesEff, N=6)\n",
    "PairwiseTest(SCZdegreesEff, N=6)"
   ]
  },
  {
   "cell_type": "markdown",
   "metadata": {},
   "source": [
    "##### Check high z-score genes"
   ]
  },
  {
   "cell_type": "code",
   "execution_count": 6,
   "metadata": {},
   "outputs": [
    {
     "ename": "NameError",
     "evalue": "name 'GeneTest' is not defined",
     "output_type": "error",
     "traceback": [
      "\u001b[0;31m---------------------------------------------------------------------------\u001b[0m",
      "\u001b[0;31mNameError\u001b[0m                                 Traceback (most recent call last)",
      "\u001b[0;32m<ipython-input-6-a0c6a3cf5c29>\u001b[0m in \u001b[0;36m<module>\u001b[0;34m\u001b[0m\n\u001b[0;32m----> 1\u001b[0;31m \u001b[0mSCZ_highZ\u001b[0m \u001b[0;34m=\u001b[0m \u001b[0mGeneTest\u001b[0m\u001b[0;34m[\u001b[0m\u001b[0mGeneTest\u001b[0m\u001b[0;34m[\u001b[0m\u001b[0;34m\"ZSTAT\"\u001b[0m\u001b[0;34m]\u001b[0m\u001b[0;34m>\u001b[0m\u001b[0;36m2\u001b[0m\u001b[0;34m]\u001b[0m\u001b[0;34m\u001b[0m\u001b[0;34m\u001b[0m\u001b[0m\n\u001b[0m\u001b[1;32m      2\u001b[0m \u001b[0mSCZ_highZ\u001b[0m\u001b[0;34m.\u001b[0m\u001b[0mshape\u001b[0m\u001b[0;34m\u001b[0m\u001b[0;34m\u001b[0m\u001b[0m\n",
      "\u001b[0;31mNameError\u001b[0m: name 'GeneTest' is not defined"
     ]
    }
   ],
   "source": [
    "SCZ_highZ = GeneTest[GeneTest[\"ZSTAT\"]>2]\n",
    "SCZ_highZ.shape"
   ]
  },
  {
   "cell_type": "code",
   "execution_count": 7,
   "metadata": {},
   "outputs": [
    {
     "ename": "NameError",
     "evalue": "name 'SCZdegreesEff' is not defined",
     "output_type": "error",
     "traceback": [
      "\u001b[0;31m---------------------------------------------------------------------------\u001b[0m",
      "\u001b[0;31mNameError\u001b[0m                                 Traceback (most recent call last)",
      "\u001b[0;32m<ipython-input-7-fcbdd2c7a42a>\u001b[0m in \u001b[0;36m<module>\u001b[0;34m\u001b[0m\n\u001b[1;32m      1\u001b[0m \u001b[0;31m#SCZdegreesEff = MapGenes2NetWork(GeneTest, subPrePPI, SCZ_Core, Symbol2ENSG, ENSG2Symbol)\u001b[0m\u001b[0;34m\u001b[0m\u001b[0;34m\u001b[0m\u001b[0;34m\u001b[0m\u001b[0m\n\u001b[0;32m----> 2\u001b[0;31m \u001b[0mPlotDegreeDecay\u001b[0m\u001b[0;34m(\u001b[0m\u001b[0mSCZdegreesEff\u001b[0m\u001b[0;34m,\u001b[0m \u001b[0mN\u001b[0m\u001b[0;34m=\u001b[0m\u001b[0;36m6\u001b[0m\u001b[0;34m,\u001b[0m \u001b[0mZcut\u001b[0m\u001b[0;34m=\u001b[0m\u001b[0;36m2\u001b[0m\u001b[0;34m)\u001b[0m\u001b[0;34m\u001b[0m\u001b[0;34m\u001b[0m\u001b[0m\n\u001b[0m\u001b[1;32m      3\u001b[0m \u001b[0mPairwiseTest\u001b[0m\u001b[0;34m(\u001b[0m\u001b[0mSCZdegreesEff\u001b[0m\u001b[0;34m,\u001b[0m \u001b[0mN\u001b[0m\u001b[0;34m=\u001b[0m\u001b[0;36m6\u001b[0m\u001b[0;34m)\u001b[0m\u001b[0;34m\u001b[0m\u001b[0;34m\u001b[0m\u001b[0m\n",
      "\u001b[0;31mNameError\u001b[0m: name 'SCZdegreesEff' is not defined"
     ]
    }
   ],
   "source": [
    "#SCZdegreesEff = MapGenes2NetWork(GeneTest, subPrePPI, SCZ_Core, Symbol2ENSG, ENSG2Symbol)\n",
    "PlotDegreeDecay(SCZdegreesEff, N=6, Zcut=2)\n",
    "PairwiseTest(SCZdegreesEff, N=6)"
   ]
  },
  {
   "cell_type": "code",
   "execution_count": null,
   "metadata": {},
   "outputs": [],
   "source": [
    "#subRGN\n",
    "g1, g2 = [Symbol2ENSG[x] for x in SCZ_Core[:2]]"
   ]
  },
  {
   "cell_type": "code",
   "execution_count": null,
   "metadata": {},
   "outputs": [],
   "source": [
    "ENSID2IDX = {}\n",
    "for idx, v in enumerate(subPrePPI.vs):\n",
    "    ENSID2IDX[v[\"ENSGID\"]] = idx\n",
    "n1, n2 = ENSID2IDX[g1], ENSID2IDX[g2]"
   ]
  },
  {
   "cell_type": "code",
   "execution_count": null,
   "metadata": {},
   "outputs": [],
   "source": [
    "CoreGenePLen = []\n",
    "for g1, g2 in itertools.combinations(SCZ_Core, r=2):\n",
    "    try:\n",
    "        g1, g2 = Symbol2ENSG[g1], Symbol2ENSG[g2]\n",
    "        n1, n2 = ENSID2IDX[g1], ENSID2IDX[g2]\n",
    "    except:\n",
    "        continue\n",
    "    pLen = subPrePPI.shortest_paths_dijkstra(n1, n2, mode=\"ALL\")[0][0]\n",
    "    CoreGenePLen.append(pLen)"
   ]
  },
  {
   "cell_type": "code",
   "execution_count": null,
   "metadata": {},
   "outputs": [],
   "source": [
    "CoreGenePLen = [x for x in CoreGenePLen if x < 100]\n",
    "print(np.mean(CoreGenePLen))\n",
    "bins = np.arange(0, max(CoreGenePLen)+1, 1)\n",
    "plt.hist(CoreGenePLen, bins=bins, align='left')\n",
    "plt.show()"
   ]
  },
  {
   "cell_type": "code",
   "execution_count": null,
   "metadata": {},
   "outputs": [],
   "source": [
    "len(SCZ_Core)"
   ]
  },
  {
   "cell_type": "code",
   "execution_count": null,
   "metadata": {},
   "outputs": [],
   "source": [
    "random_nodes = np.random.choice(subPrePPI.vs, len(SCZ_Core))\n",
    "RDMGenePLen = []\n",
    "for n1, n2 in itertools.combinations(random_nodes, r=2):\n",
    "    pLen = subPrePPI.shortest_paths_dijkstra(n1, n2, mode=\"ALL\")[0][0]\n",
    "    RDMGenePLen.append(pLen)"
   ]
  },
  {
   "cell_type": "code",
   "execution_count": null,
   "metadata": {},
   "outputs": [],
   "source": [
    "RDMGenePLen = [x for x in RDMGenePLen if x < 100]\n",
    "print(np.mean(RDMGenePLen))\n",
    "bins = np.arange(0, max(RDMGenePLen)+1, 1)\n",
    "plt.hist(RDMGenePLen, bins=bins, align='left')\n",
    "plt.show()"
   ]
  },
  {
   "cell_type": "code",
   "execution_count": null,
   "metadata": {},
   "outputs": [],
   "source": [
    "ConnectivityTest(subPrePPI, SCZ_Core, Symbol2ENSG)"
   ]
  },
  {
   "cell_type": "code",
   "execution_count": null,
   "metadata": {},
   "outputs": [],
   "source": [
    "ConnectivityTest(subPrePPI, GWAS_SCZ_Core, Symbol2ENSG)"
   ]
  },
  {
   "cell_type": "code",
   "execution_count": null,
   "metadata": {},
   "outputs": [],
   "source": [
    "CoreGenePLen, rndGenePLen = CompareShortestPathDist(subPrePPI, SCZ_Core, Symbol2ENSG)\n",
    "PlotShortestPathDist(CoreGenePLen, rndGenePLen)"
   ]
  },
  {
   "cell_type": "code",
   "execution_count": null,
   "metadata": {},
   "outputs": [],
   "source": [
    "Zcut = 7\n",
    "ZCUT_GENEs = list(set(GeneTest[GeneTest\n",
    "                               \n",
    "                               \n",
    "                               \n",
    "                               \n",
    "                               \n",
    "                               \n",
    "                                    jhh l m        xccccc\n",
    "                               \n",
    "                                              \"ZSTAT\"]>Zcut].index.values.tolist() + SCZ_Core.tolist()))\n",
    "CoreGenePLen, rndGenePLen = Co mpareShortestPathDist(subPrePPI, ZCUT_GENEs, Symbol2ENSG)\n",
    "PlotShortestPathDist(CoreGenePLen, rndGenePLen)"
   ]
  },
  {
   "cell_type": "code",
   "execution_count": null,
   "metadata": {},
   "outputs": [],
   "source": [
    "Zcut = 6\n",
    "ZCUT_GENEs = list(set(GeneTest[GeneTest[\"ZSTAT\"]>Zcut].index.values.tolist() + SCZ_Core.tolist()))\n",
    "CoreGenePLen, rndGenePLen = CompareShortestPathDist(subPrePPI, ZCUT_GENEs, Symbol2ENSG)\n",
    "PlotShortestPathDist(CoreGenePLen, rndGenePLen)"
   ]
  },
  {
   "cell_type": "code",
   "execution_count": null,
   "metadata": {},
   "outputs": [],
   "source": [
    "Zcut = 5\n",
    "ZCUT_GENEs = list(set(GeneTest[GeneTest[\"ZSTAT\"]>Zcut].index.values.tolist() + SCZ_Core.tolist()))\n",
    "CoreGenePLen, rndGenePLen = CompareShortestPathDist(subPrePPI, ZCUT_GENEs, Symbol2ENSG)\n",
    "PlotShortestPathDist(CoreGenePLen, rndGenePLen)"
   ]
  },
  {
   "cell_type": "code",
   "execution_count": null,
   "metadata": {},
   "outputs": [],
   "source": [
    "Zcut = 4\n",
    "ZCUT_GENEs = list(set(GeneTest[GeneTest[\"ZSTAT\"]>Zcut].index.values.tolist() + SCZ_Core.tolist()))\n",
    "CoreGenePLen, rndGenePLen = CompareShortestPathDist(subPrePPI, ZCUT_GENEs, Symbol2ENSG)\n",
    "PlotShortestPathDist(CoreGenePLen, rndGenePLen)"
   ]
  },
  {
   "cell_type": "code",
   "execution_count": null,
   "metadata": {},
   "outputs": [],
   "source": [
    "Zcut = 3\n",
    "ZCUT_GENEs = list(set(GeneTest[GeneTest[\"ZSTAT\"]>Zcut].index.values.tolist() + SCZ_Core.tolist()))\n",
    "CoreGenePLen, rndGenePLen = CompareShortestPathDist(subPrePPI, ZCUT_GENEs, Symbol2ENSG)\n",
    "PlotShortestPathDist(CoreGenePLen, rndGenePLen)"
   ]
  },
  {
   "cell_type": "code",
   "execution_count": null,
   "metadata": {},
   "outputs": [],
   "source": [
    "Zcut = 2\n",
    "ZCUT_GENEs = list(set(GeneTest[GeneTest[\"ZSTAT\"]>Zcut].index.values.tolist() + SCZ_Core.tolist()))\n",
    "CoreGenePLen, rndGenePLen = CompareShortestPathDist(subPrePPI, ZCUT_GENEs, Symbol2ENSG)\n",
    "PlotShortestPathDist(CoreGenePLen, rndGenePLen)"
   ]
  },
  {
   "cell_type": "code",
   "execution_count": null,
   "metadata": {},
   "outputs": [],
   "source": [
    "Zcut = 1\n",
    "ZCUT_GENEs = list(set(GeneTest[GeneTest[\"ZSTAT\"]>Zcut].index.values.tolist() + SCZ_Core.tolist()))\n",
    "CoreGenePLen, rndGenePLen = CompareShortestPathDist(subPrePPI, ZCUT_GENEs, Symbol2ENSG)\n",
    "PlotShortestPathDist(CoreGenePLen, rndGenePLen)"
   ]
  },
  {
   "cell_type": "code",
   "execution_count": null,
   "metadata": {},
   "outputs": [],
   "source": []
  },
  {
   "cell_type": "code",
   "execution_count": null,
   "metadata": {},
   "outputs": [],
   "source": []
  },
  {
   "cell_type": "code",
   "execution_count": null,
   "metadata": {},
   "outputs": [],
   "source": [
    "CoreGenePLen, rndGenePLen = CompareShortestPathDist(subPrePPI, GWAS_SCZ_Core, Symbol2ENSG)\n",
    "PlotShortestPathDist(CoreGenePLen, rndGenePLen)"
   ]
  },
  {
   "cell_type": "code",
   "execution_count": null,
   "metadata": {},
   "outputs": [],
   "source": [
    "CoreGenePLen, rndGenePLen = CompareShortestPathDist(subRGN, SCZ_Core, Symbol2ENSG)\n",
    "PlotShortestPathDist(CoreGenePLen, rndGenePLen)"
   ]
  },
  {
   "cell_type": "code",
   "execution_count": null,
   "metadata": {},
   "outputs": [],
   "source": [
    "CoreGenePLen, rndGenePLen = CompareShortestPathDist(subRGN, GWAS_SCZ_Core, Symbol2ENSG)\n",
    "PlotShortestPathDist(CoreGenePLen, rndGenePLen)"
   ]
  },
  {
   "cell_type": "markdown",
   "metadata": {},
   "source": [
    "### ASD"
   ]
  },
  {
   "cell_type": "code",
   "execution_count": null,
   "metadata": {},
   "outputs": [],
   "source": [
    "df = pd.read_csv(\"/Users/jiayao/Work/spark/dat/SFARI-Gene_genes_05-06-2019release_05-22-2019export.csv\")\n",
    "ASD_Core = df[df[\"gene-score\"].isin([1.0, 2.0])][\"gene-symbol\"].values\n",
    "GeneTest = ProcessLoadGeneTestAndPlot(\"../dat/GWAS/GeneTest/asd.genetest.tsv\", ASD_Core)\n",
    "ASDdegreesEff = MapGenes2NetWork(GeneTest, subPrePPI, ASD_Core, Symbol2ENSG, ENSG2Symbol)"
   ]
  },
  {
   "cell_type": "code",
   "execution_count": null,
   "metadata": {},
   "outputs": [],
   "source": [
    "PlotDegreeDecay(ASDdegreesEff, N=6)\n",
    "PairwiseTest(ASDdegreesEff, N=6)"
   ]
  },
  {
   "cell_type": "code",
   "execution_count": null,
   "metadata": {},
   "outputs": [],
   "source": [
    "PlotDegreeDecay(ASDdegreesEff, N=6, Zcut = 1)\n",
    "PairwiseTest(ASDdegreesEff, N=6)"
   ]
  },
  {
   "cell_type": "code",
   "execution_count": null,
   "metadata": {},
   "outputs": [],
   "source": [
    "GWAS_Core = GeneTest[GeneTest[\"ZSTAT\"]>3].index\n",
    "ASDdegreesEff2 = MapGenes2NetWork(GeneTest, subPrePPI, GWAS_Core, Symbol2ENSG, ENSG2Symbol)\n",
    "PlotDegreeDecay(ASDdegreesEff2, N=6)\n",
    "PairwiseTest(ASDdegreesEff2, N=6)"
   ]
  },
  {
   "cell_type": "code",
   "execution_count": null,
   "metadata": {},
   "outputs": [],
   "source": [
    "ASDdegreesEff = MapGenes2NetWork(GeneTest, subRGN, ASD_Core, Symbol2ENSG, ENSG2Symbol)\n",
    "PlotDegreeDecay(ASDdegreesEff, N=6)\n",
    "PairwiseTest(ASDdegreesEff, N=6)"
   ]
  },
  {
   "cell_type": "code",
   "execution_count": null,
   "metadata": {},
   "outputs": [],
   "source": [
    "CoreGenePLen, rndGenePLen = CompareShortestPathDist(subPrePPI, ASD_Core, Symbol2ENSG)\n",
    "PlotShortestPathDist(CoreGenePLen, rndGenePLen)"
   ]
  },
  {
   "cell_type": "code",
   "execution_count": null,
   "metadata": {},
   "outputs": [],
   "source": [
    "CoreGenePLen, rndGenePLen = CompareShortestPathDist(subPrePPI, GWAS_Core, Symbol2ENSG)\n",
    "PlotShortestPathDist(CoreGenePLen, rndGenePLen)"
   ]
  },
  {
   "cell_type": "code",
   "execution_count": null,
   "metadata": {},
   "outputs": [],
   "source": [
    "CoreGenePLen, rndGenePLen = CompareShortestPathDist(subRGN, ASD_Core, Symbol2ENSG)\n",
    "PlotShortestPathDist(CoreGenePLen, rndGenePLen)"
   ]
  },
  {
   "cell_type": "code",
   "execution_count": null,
   "metadata": {},
   "outputs": [],
   "source": [
    "CoreGenePLen, rndGenePLen = CompareShortestPathDist(subRGN, GWAS_Core, Symbol2ENSG)\n",
    "PlotShortestPathDist(CoreGenePLen, rndGenePLen)"
   ]
  },
  {
   "cell_type": "code",
   "execution_count": null,
   "metadata": {},
   "outputs": [],
   "source": [
    "ConnectivityTest(subPrePPI, ASD_Core, Symbol2ENSG)"
   ]
  },
  {
   "cell_type": "code",
   "execution_count": null,
   "metadata": {},
   "outputs": [],
   "source": [
    "ConnectivityTest(subPrePPI, GWAS_Core, Symbol2ENSG)"
   ]
  },
  {
   "cell_type": "code",
   "execution_count": null,
   "metadata": {},
   "outputs": [],
   "source": [
    "brain_hbnet_fil = '../dat/network/brain_top.gz'\n",
    "brain_hbnet, unmap_brain_hbnet = LoadHumanBase(brain_hbnet_fil, Entrez2ENSG, pcut = 0.5)"
   ]
  },
  {
   "cell_type": "code",
   "execution_count": null,
   "metadata": {},
   "outputs": [],
   "source": [
    "subbrain_hbnet = brain_hbnet.subgraph_edges(brain_hbnet.es.select(weight_ge=0.5))\n",
    "print(len(subbrain_hbnet.vs))\n",
    "print(np.mean(subbrain_hbnet.degree()))"
   ]
  },
  {
   "cell_type": "code",
   "execution_count": null,
   "metadata": {},
   "outputs": [],
   "source": [
    "SCZdegreesEff = MapGenes2NetWork(GeneTest, subbrain_hbnet, SCZ_Core, Symbol2ENSG, ENSG2Symbol)\n",
    "PlotDegreeDecay(SCZdegreesEff, N=6, Zcut=None)\n",
    "PairwiseTest(SCZdegreesEff, N=6)"
   ]
  },
  {
   "cell_type": "code",
   "execution_count": null,
   "metadata": {},
   "outputs": [],
   "source": [
    "heart_hbnet_fil = '../dat/network/heart_top.gz'\n",
    "heart_hbnet, unmap_heart_hbnet = LoadHumanBase(heart_hbnet_fil, Entrez2ENSG, pcut = 0.5)"
   ]
  },
  {
   "cell_type": "code",
   "execution_count": null,
   "metadata": {},
   "outputs": [],
   "source": [
    "subheart_hbnet = heart_hbnet.subgraph_edges(heart_hbnet.es.select(weight_ge=0.5))\n",
    "print(len(subheart_hbnet.vs))\n",
    "print(np.mean(subheart_hbnet.degree()))"
   ]
  },
  {
   "cell_type": "code",
   "execution_count": null,
   "metadata": {},
   "outputs": [],
   "source": [
    "SCZdegreesEff = MapGenes2NetWork(GeneTest, subheart_hbnet, SCZ_Core, Symbol2ENSG, ENSG2Symbol)\n",
    "PlotDegreeDecay(SCZdegreesEff, N=6, Zcut=None)\n",
    "PairwiseTest(SCZdegreesEff, N=6)"
   ]
  },
  {
   "cell_type": "code",
   "execution_count": null,
   "metadata": {},
   "outputs": [],
   "source": [
    "lung_hbnet_fil = '../dat/network/lung_top.gz'\n",
    "lung_hbnet, unmap_lung_hbnet = LoadHumanBase(lung_hbnet_fil, Entrez2ENSG, pcut = 0.5)"
   ]
  },
  {
   "cell_type": "code",
   "execution_count": null,
   "metadata": {},
   "outputs": [],
   "source": [
    "sublung_hbnet = lung_hbnet.subgraph_edges(lung_hbnet.es.select(weight_ge=0.5))\n",
    "print(len(sublung_hbnet.vs))\n",
    "print(np.mean(sublung_hbnet.degree()))"
   ]
  },
  {
   "cell_type": "code",
   "execution_count": null,
   "metadata": {},
   "outputs": [],
   "source": [
    "SCZdegreesEff = MapGenes2NetWork(GeneTest, sublung_hbnet, SCZ_Core, Symbol2ENSG, ENSG2Symbol)\n",
    "PlotDegreeDecay(SCZdegreesEff, N=6, Zcut=None)\n",
    "PairwiseTest(SCZdegreesEff, N=6)"
   ]
  },
  {
   "cell_type": "code",
   "execution_count": null,
   "metadata": {},
   "outputs": [],
   "source": []
  },
  {
   "cell_type": "code",
   "execution_count": null,
   "metadata": {},
   "outputs": [],
   "source": [
    "ENSID2IDX = {}\n",
    "for idx, v in enumerate(subPrePPI.vs):\n",
    "    ENSID2IDX[v[\"ENSGID\"]] = idx\n",
    "    \n",
    "def symbol2node(symbol):\n",
    "    try:\n",
    "        ensid = Symbol2ENSG[symbol]\n",
    "        node = ENSID2IDX[ensid]\n",
    "    except:\n",
    "        node = None\n",
    "    return node\n",
    "    \n",
    "RES = {}\n",
    "for gene in SCZ_Core:\n",
    "    node = symbol2node(gene)\n",
    "    if node == None:\n",
    "        continue\n",
    "    closest_nodes = []\n",
    "    closest_dist = np.inf\n",
    "    for _gene in SCZ_Core:\n",
    "        _node = symbol2node(_gene)\n",
    "        if _node != None and node != _node:\n",
    "            pLen = subPrePPI.shortest_paths_dijkstra(node, _node, mode=\"ALL\")[0][0]\n",
    "            if pLen < closest_dist:\n",
    "                closest_dist = pLen\n",
    "                closest_nodes = [_gene]\n",
    "            elif pLen == closest_dist:\n",
    "                closest_nodes.append(_gene)\n",
    "    RES[gene] = (closest_dist, closest_nodes)"
   ]
  },
  {
   "cell_type": "code",
   "execution_count": null,
   "metadata": {},
   "outputs": [],
   "source": [
    "print(SCZ_Core[:10])"
   ]
  },
  {
   "cell_type": "code",
   "execution_count": null,
   "metadata": {},
   "outputs": [],
   "source": [
    "RES[\"PEX10\"]"
   ]
  },
  {
   "cell_type": "code",
   "execution_count": null,
   "metadata": {},
   "outputs": [],
   "source": [
    "print(len(RES))\n",
    "dists = [RES[x][0] for x in SCZ_Core if x in RES]\n",
    "dists2 = [x for x in dists if x<100]\n",
    "print(len(dists), len(dists2))\n",
    "plt.hist(dists2)"
   ]
  },
  {
   "cell_type": "code",
   "execution_count": null,
   "metadata": {},
   "outputs": [],
   "source": [
    "Clusters = []\n",
    "MAX_DIST = 1\n",
    "for gene in RES.keys():\n",
    "    if RES[gene][0] > MAX_DIST:\n",
    "        continue\n",
    "    genes = [gene] + RES[gene][1]\n",
    "    genes = set(genes)\n",
    "    FLAG_NEW_CLUST = True\n",
    "    for cluster in Clusters:\n",
    "        #print(cluster)\n",
    "        if genes.intersection(cluster):\n",
    "            cluster = cluster.union(genes)\n",
    "            FLAG_NEW_CLUST = False\n",
    "    if FLAG_NEW_CLUST:\n",
    "        Clusters.append(genes)\n",
    "    #merge_cluster(Clusters, i, j)"
   ]
  },
  {
   "cell_type": "code",
   "execution_count": null,
   "metadata": {},
   "outputs": [],
   "source": [
    "for clust in Clusters:\n",
    "    print(clust)"
   ]
  },
  {
   "cell_type": "code",
   "execution_count": null,
   "metadata": {},
   "outputs": [],
   "source": [
    "Z_cut = 5\n",
    "ZCUT_GENEs = list(set(GeneTest[GeneTest[\"ZSTAT\"]>Z_cut].index.values.tolist() + SCZ_Core.tolist()))\n",
    "print(len(ZCUT_GENEs))"
   ]
  },
  {
   "cell_type": "code",
   "execution_count": null,
   "metadata": {},
   "outputs": [],
   "source": [
    "RES2 = {}\n",
    "for gene in ZCUT_GENEs:\n",
    "    node = symbol2node(gene)\n",
    "    if node == None:\n",
    "        continue\n",
    "    closest_nodes = []\n",
    "    closest_dist = np.inf\n",
    "    for _gene in ZCUT_GENEs:\n",
    "        _node = symbol2node(_gene)\n",
    "        if _node != None and node != _node:\n",
    "            pLen = subPrePPI.shortest_paths_dijkstra(node, _node, mode=\"ALL\")[0][0]\n",
    "            if pLen < closest_dist:\n",
    "                closest_dist = pLen\n",
    "                closest_nodes = [_gene]\n",
    "            if pLen == closest_dist:\n",
    "                closest_nodes.append(_gene)\n",
    "    RES2[gene] = (closest_dist, closest_nodes)"
   ]
  },
  {
   "cell_type": "code",
   "execution_count": null,
   "metadata": {},
   "outputs": [],
   "source": [
    "print(len(RES2))\n",
    "dists = [RES2[x][0] for x in ZCUT_GENEs if x in RES2]\n",
    "dists2 = [x for x in dists if x<100]\n",
    "print(len(dists), len(dists2))\n",
    "plt.hist(dists2)"
   ]
  },
  {
   "cell_type": "code",
   "execution_count": null,
   "metadata": {},
   "outputs": [],
   "source": [
    "Clusters = []\n",
    "MAX_DIST = 1\n",
    "for gene in RES2.keys():\n",
    "    if RES2[gene][0] > MAX_DIST:\n",
    "        continue\n",
    "    genes = [gene] + RES2[gene][1]\n",
    "    genes = set(genes)\n",
    "    FLAG_NEW_CLUST = True\n",
    "    for cluster in Clusters:\n",
    "        #print(cluster)\n",
    "        if genes.intersection(cluster):\n",
    "            cluster = cluster.union(genes)\n",
    "            FLAG_NEW_CLUST = False\n",
    "    if FLAG_NEW_CLUST:\n",
    "        Clusters.append(genes)\n",
    "    #merge_cluster(Clusters, i, j)"
   ]
  },
  {
   "cell_type": "code",
   "execution_count": null,
   "metadata": {},
   "outputs": [],
   "source": [
    "for clust in Clusters:\n",
    "    print(clust)"
   ]
  },
  {
   "cell_type": "code",
   "execution_count": null,
   "metadata": {},
   "outputs": [],
   "source": [
    "RES1 = Clusters_step1(SCZ_Core, subPrePPI, Symbol2ENSG)"
   ]
  },
  {
   "cell_type": "code",
   "execution_count": null,
   "metadata": {},
   "outputs": [],
   "source": [
    "Clusters = Clusters_step2(RES1)\n",
    "for clust in Clusters:\n",
    "    print(clust)"
   ]
  },
  {
   "cell_type": "code",
   "execution_count": null,
   "metadata": {},
   "outputs": [],
   "source": [
    "\"SNRNP35\" in SCZ_Core"
   ]
  },
  {
   "cell_type": "code",
   "execution_count": null,
   "metadata": {},
   "outputs": [],
   "source": [
    "Z_cut = 5\n",
    "ZCUT_GENEs = list(set(GeneTest[GeneTest[\"ZSTAT\"]>Z_cut].index.values.tolist() + SCZ_Core.tolist()))\n",
    "print(len(ZCUT_GENEs))\n",
    "RES2 = Clusters_step1(ZCUT_GENEs, subPrePPI, Symbol2ENSG)"
   ]
  },
  {
   "cell_type": "code",
   "execution_count": null,
   "metadata": {},
   "outputs": [],
   "source": [
    "Clusters = Clusters_step2(RES2)\n",
    "for clust in Clusters:\n",
    "    print(clust)"
   ]
  },
  {
   "cell_type": "code",
   "execution_count": null,
   "metadata": {},
   "outputs": [],
   "source": [
    "for gene in SCZ_Core:\n",
    "    if gene == gene:\n",
    "        print(gene)"
   ]
  },
  {
   "cell_type": "code",
   "execution_count": null,
   "metadata": {},
   "outputs": [],
   "source": [
    "for gene in Clusters[1]:\n",
    "    print(gene)"
   ]
  },
  {
   "cell_type": "code",
   "execution_count": null,
   "metadata": {},
   "outputs": [],
   "source": [
    "Z_cut = 4\n",
    "ZCUT_GENEs = list(set(GeneTest[GeneTest[\"ZSTAT\"]>Z_cut].index.values.tolist() + SCZ_Core.tolist()))\n",
    "print(len(ZCUT_GENEs))\n",
    "RES3 = Clusters_step1(ZCUT_GENEs, subPrePPI, Symbol2ENSG)"
   ]
  },
  {
   "cell_type": "code",
   "execution_count": null,
   "metadata": {},
   "outputs": [],
   "source": [
    "Clusters = Clusters_step2(RES3)\n",
    "for clust in Clusters:\n",
    "    print(clust)"
   ]
  },
  {
   "cell_type": "code",
   "execution_count": null,
   "metadata": {},
   "outputs": [],
   "source": [
    "Z_cut = 3\n",
    "ZCUT_GENEs = list(set(GeneTest[GeneTest[\"ZSTAT\"]>Z_cut].index.values.tolist() + SCZ_Core.tolist()))\n",
    "print(len(ZCUT_GENEs))\n",
    "RES4 = Clusters_step1(ZCUT_GENEs, subPrePPI, Symbol2ENSG)"
   ]
  },
  {
   "cell_type": "code",
   "execution_count": null,
   "metadata": {},
   "outputs": [],
   "source": [
    "Clusters = Clusters_step2(RES4)\n",
    "for clust in Clusters:\n",
    "    print(clust)"
   ]
  },
  {
   "cell_type": "code",
   "execution_count": null,
   "metadata": {},
   "outputs": [],
   "source": [
    "for gene in Clusters[0]:\n",
    "    print(gene)"
   ]
  },
  {
   "cell_type": "code",
   "execution_count": null,
   "metadata": {},
   "outputs": [],
   "source": [
    "from igraph import *\n",
    "import cairocffi \n",
    "import cairo"
   ]
  },
  {
   "cell_type": "code",
   "execution_count": null,
   "metadata": {},
   "outputs": [],
   "source": [
    "nodes = GeneSymbol2nodes(subPrePPI, SCZ_Core, Symbol2ENSG)\n",
    "g = subPrePPI.subgraph(nodes)\n",
    "\n",
    "g.vs[\"color\"] = \"orange\" #modify color of vertex as orange\n",
    "d = g.degree() # get degree of vertices\n",
    "layout = g.layout(\"fr\") # set layout as Fruchterman-Reingold layout\n",
    "\n",
    "cl = g.clusters() \n",
    "new_cl = Clustering([c for c in cl if len(c)>2])\n",
    "lcc = cl.giant() # find largest connected compounet\n",
    "drawing.plot(new_cl, \n",
    "             layout = layout,\n",
    "             vertex_size = 8, \n",
    "             bbox=(400,400), \n",
    "             margin = 10) # plot graph as vertex size proportion of eigen centrality."
   ]
  },
  {
   "cell_type": "code",
   "execution_count": null,
   "metadata": {},
   "outputs": [],
   "source": [
    "print(cl)"
   ]
  },
  {
   "cell_type": "code",
   "execution_count": null,
   "metadata": {},
   "outputs": [],
   "source": [
    "ENSG2Symbol = {v: k for k,v in Symbol2ENSG.items()}\n",
    "ENSID2IDX = {}\n",
    "IDX2SYMBOL = {}\n",
    "for idx, v in enumerate(g.vs):\n",
    "    ENSID2IDX[v[\"ENSGID\"]] = idx\n",
    "    IDX2SYMBOL[idx] = ENSG2Symbol[v[\"ENSGID\"]]"
   ]
  },
  {
   "cell_type": "code",
   "execution_count": null,
   "metadata": {},
   "outputs": [],
   "source": [
    "for c in cl:\n",
    "    if len(c) > 1:\n",
    "        c = [IDX2SYMBOL[x] for x in c]\n",
    "        print(c)"
   ]
  },
  {
   "cell_type": "code",
   "execution_count": null,
   "metadata": {},
   "outputs": [],
   "source": [
    "\"STAT6\" in SCZ_Core"
   ]
  },
  {
   "cell_type": "code",
   "execution_count": null,
   "metadata": {},
   "outputs": [],
   "source": [
    "RES1[\"STAT6\"]"
   ]
  },
  {
   "cell_type": "code",
   "execution_count": null,
   "metadata": {},
   "outputs": [],
   "source": [
    "Clusters = Clusters_step2(RES1)\n",
    "for clust in Clusters:\n",
    "    print(clust)"
   ]
  },
  {
   "cell_type": "code",
   "execution_count": null,
   "metadata": {},
   "outputs": [],
   "source": [
    "Z_cut = 3\n",
    "ZCUT_GENEs = list(set(GeneTest[GeneTest[\"ZSTAT\"]>Z_cut].index.values.tolist() + SCZ_Core.tolist()))\n",
    "nodes = GeneSymbol2nodes(subPrePPI, ZCUT_GENEs, Symbol2ENSG)\n",
    "g = subPrePPI.subgraph(nodes)\n",
    "cl = g.clusters() \n",
    "ENSG2Symbol = {v: k for k,v in Symbol2ENSG.items()}\n",
    "ENSID2IDX = {}\n",
    "IDX2SYMBOL = {}\n",
    "for idx, v in enumerate(g.vs):\n",
    "    ENSID2IDX[v[\"ENSGID\"]] = idx\n",
    "    IDX2SYMBOL[idx] = ENSG2Symbol[v[\"ENSGID\"]]\n",
    "for c in cl:\n",
    "    if len(c) > 1:\n",
    "        c = [IDX2SYMBOL[x] for x in c]\n",
    "        print(c)"
   ]
  },
  {
   "cell_type": "code",
   "execution_count": null,
   "metadata": {},
   "outputs": [],
   "source": [
    "for Zcut in [7,6,5,4,3,2]:\n",
    "    ZCUT_GENEs = list(set(GeneTest[GeneTest[\"ZSTAT\"]>Zcut].index.values.tolist() + SCZ_Core.tolist()))\n",
    "    nodes = GeneSymbol2nodes(subPrePPI, ZCUT_GENEs, Symbol2ENSG)\n",
    "    g = subPrePPI.subgraph(nodes)\n",
    "    cl = g.clusters() \n",
    "    ENSG2Symbol = {v: k for k,v in Symbol2ENSG.items()}\n",
    "    ENSID2IDX = {}\n",
    "    IDX2SYMBOL = {}\n",
    "    for idx, v in enumerate(g.vs):\n",
    "        ENSID2IDX[v[\"ENSGID\"]] = idx\n",
    "        IDX2SYMBOL[idx] = ENSG2Symbol[v[\"ENSGID\"]]\n",
    "    c_size = []\n",
    "    for c in cl:\n",
    "        if len(c) > 1:\n",
    "            c = [IDX2SYMBOL[x] for x in c]\n",
    "            #print(c)\n",
    "            c_size.append(len(c))\n",
    "    plt.hist(c_size, bins=max(c_size))\n",
    "    plt.show()"
   ]
  },
  {
   "cell_type": "code",
   "execution_count": null,
   "metadata": {},
   "outputs": [],
   "source": []
  }
 ],
 "metadata": {
  "kernelspec": {
   "display_name": "Python 3",
   "language": "python",
   "name": "python3"
  },
  "language_info": {
   "codemirror_mode": {
    "name": "ipython",
    "version": 3
   },
   "file_extension": ".py",
   "mimetype": "text/x-python",
   "name": "python",
   "nbconvert_exporter": "python",
   "pygments_lexer": "ipython3",
   "version": "3.7.1"
  }
 },
 "nbformat": 4,
 "nbformat_minor": 2
}
